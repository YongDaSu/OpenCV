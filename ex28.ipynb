{
 "cells": [
  {
   "cell_type": "code",
   "execution_count": 1,
   "id": "a29c2d1c-9ea1-406c-80d5-c0bc99086e77",
   "metadata": {},
   "outputs": [],
   "source": [
    "import cv2\n",
    "import numpy as np"
   ]
  },
  {
   "cell_type": "code",
   "execution_count": 2,
   "id": "9740fd52-6db1-4056-97f9-09e1b03b6b94",
   "metadata": {},
   "outputs": [
    {
     "name": "stdout",
     "output_type": "stream",
     "text": [
      "(700, 600, 3)\n",
      "(700, 600, 3)\n"
     ]
    }
   ],
   "source": [
    "apple = cv2.imread('apple.jpg')\n",
    "orange = cv2.imread('orange.jpg')\n",
    "print(apple.shape)\n",
    "print(orange.shape)\n",
    "apple_orange = np.hstack((apple[:, :256], orange[:, 256:]))"
   ]
  },
  {
   "cell_type": "code",
   "execution_count": 3,
   "id": "c03b9816-2839-40db-a937-32db3973e9dc",
   "metadata": {},
   "outputs": [],
   "source": [
    "#generate Gaussion pyramid for apple (7 layer)\n",
    "apple_copy = apple.copy()\n",
    "gp_apple = [apple_copy]\n",
    "for i in range(6):\n",
    "    apple_copy = cv2.pyrDown(apple_copy)\n",
    "    gp_apple.append(apple_copy)"
   ]
  },
  {
   "cell_type": "code",
   "execution_count": 6,
   "id": "7448a584-52de-44f9-9ea4-6103e73b9302",
   "metadata": {},
   "outputs": [
    {
     "name": "stdout",
     "output_type": "stream",
     "text": [
      "(700, 600, 3)\n",
      "(350, 300, 3)\n",
      "(175, 150, 3)\n",
      "(88, 75, 3)\n",
      "(44, 38, 3)\n",
      "(22, 19, 3)\n"
     ]
    }
   ],
   "source": [
    "#generate Gaussion pyramid for orange (7 layer)\n",
    "orange_copy = orange.copy()\n",
    "gp_orange = [orange_copy]\n",
    "for i in range(6):\n",
    "    orange_copy = cv2.pyrDown(orange_copy)\n",
    "    gp_orange.append(orange_copy)\n",
    "    print(gp_apple[i].shape)"
   ]
  },
  {
   "cell_type": "code",
   "execution_count": 5,
   "id": "23218f19-cda5-430d-967d-ae306b663ff3",
   "metadata": {},
   "outputs": [
    {
     "name": "stdout",
     "output_type": "stream",
     "text": [
      "(44, 38, 3)\n",
      "(44, 38, 3)\n",
      "(88, 75, 3)\n",
      "(88, 76, 3)\n"
     ]
    },
    {
     "ename": "error",
     "evalue": "OpenCV(4.5.5) D:\\a\\opencv-python\\opencv-python\\opencv\\modules\\core\\src\\arithm.cpp:650: error: (-209:Sizes of input arguments do not match) The operation is neither 'array op array' (where arrays have the same size and the same number of channels), nor 'array op scalar', nor 'scalar op array' in function 'cv::arithm_op'\n",
     "output_type": "error",
     "traceback": [
      "\u001b[1;31m---------------------------------------------------------------------------\u001b[0m",
      "\u001b[1;31merror\u001b[0m                                     Traceback (most recent call last)",
      "\u001b[1;32m~\\AppData\\Local\\Temp/ipykernel_36284/3202865417.py\u001b[0m in \u001b[0;36m<module>\u001b[1;34m\u001b[0m\n\u001b[0;32m      5\u001b[0m     \u001b[0mprint\u001b[0m\u001b[1;33m(\u001b[0m\u001b[0mgp_apple\u001b[0m\u001b[1;33m[\u001b[0m\u001b[0mi\u001b[0m\u001b[1;33m-\u001b[0m\u001b[1;36m1\u001b[0m\u001b[1;33m]\u001b[0m\u001b[1;33m.\u001b[0m\u001b[0mshape\u001b[0m\u001b[1;33m)\u001b[0m\u001b[1;33m\u001b[0m\u001b[1;33m\u001b[0m\u001b[0m\n\u001b[0;32m      6\u001b[0m     \u001b[0mprint\u001b[0m\u001b[1;33m(\u001b[0m\u001b[0mgaussian_expanded\u001b[0m\u001b[1;33m.\u001b[0m\u001b[0mshape\u001b[0m\u001b[1;33m)\u001b[0m\u001b[1;33m\u001b[0m\u001b[1;33m\u001b[0m\u001b[0m\n\u001b[1;32m----> 7\u001b[1;33m     \u001b[0mlaplacian\u001b[0m \u001b[1;33m=\u001b[0m\u001b[0mcv2\u001b[0m\u001b[1;33m.\u001b[0m\u001b[0msubtract\u001b[0m\u001b[1;33m(\u001b[0m\u001b[0mgp_apple\u001b[0m\u001b[1;33m[\u001b[0m\u001b[0mi\u001b[0m\u001b[1;33m-\u001b[0m\u001b[1;36m1\u001b[0m\u001b[1;33m]\u001b[0m\u001b[1;33m,\u001b[0m \u001b[0mgaussian_expanded\u001b[0m\u001b[1;33m)\u001b[0m\u001b[1;33m\u001b[0m\u001b[1;33m\u001b[0m\u001b[0m\n\u001b[0m\u001b[0;32m      8\u001b[0m     \u001b[0mlp_apple\u001b[0m\u001b[1;33m.\u001b[0m\u001b[0mappend\u001b[0m\u001b[1;33m(\u001b[0m\u001b[0mlaplacian\u001b[0m\u001b[1;33m)\u001b[0m\u001b[1;33m\u001b[0m\u001b[1;33m\u001b[0m\u001b[0m\n",
      "\u001b[1;31merror\u001b[0m: OpenCV(4.5.5) D:\\a\\opencv-python\\opencv-python\\opencv\\modules\\core\\src\\arithm.cpp:650: error: (-209:Sizes of input arguments do not match) The operation is neither 'array op array' (where arrays have the same size and the same number of channels), nor 'array op scalar', nor 'scalar op array' in function 'cv::arithm_op'\n"
     ]
    }
   ],
   "source": [
    "apple_copy = gp_apple[5]\n",
    "lp_apple = [apple_copy]\n",
    "for i in range(5,0,-1):\n",
    "    gaussian_expanded = cv2.pyrUp(gp_apple[i])\n",
    "    print(gp_apple[i-1].shape)\n",
    "    print(gaussian_expanded.shape)\n",
    "    laplacian =cv2.subtract(gp_apple[i-1], gaussian_expanded)\n",
    "    lp_apple.append(laplacian)"
   ]
  },
  {
   "cell_type": "code",
   "execution_count": null,
   "id": "2b527490-1209-4f8f-9adc-18685ce46c0c",
   "metadata": {},
   "outputs": [],
   "source": [
    "orange_copy = gp_orange[5]\n",
    "lp_orange = [orange_copy]\n",
    "for i in range(5,0,-1):\n",
    "    gaussian_expanded = cv2.pyrUp(gp_orange[i])\n",
    "    laplacian =cv2.subtract(gp_orange[i-1], gaussian_expanded)\n",
    "    lp_orange.append(laplacian)"
   ]
  },
  {
   "cell_type": "code",
   "execution_count": null,
   "id": "8c0e99dd-97d4-4d92-bd82-7b66819da065",
   "metadata": {},
   "outputs": [],
   "source": [
    "#add apple and orange\n",
    "apple_orange_pyramid = []\n",
    "n = 0\n",
    "for apple_lap, orange_lap in zip (lp_apple, lp_orange):\n",
    "    n += 1\n",
    "    rows, cols, ch = apple_lap.shape\n",
    "    laplacian = np.hstack((apple_lap[:, 0: int(cols/2)], orange_lap[:, int(cols/2):]))\n",
    "    apple_orange_pyramid.append(laplacian)"
   ]
  },
  {
   "cell_type": "code",
   "execution_count": null,
   "id": "86148241-31f9-4767-a57b-1373e7f47f7c",
   "metadata": {},
   "outputs": [],
   "source": [
    "#reconstruct\n",
    "apple_orange_reconstruct = apple_orange_pyramid[0]\n",
    "for i in range(1, 6):\n",
    "    apple_orange_reconstruct = cv2.pyrUp(apple_orange_reconstruct)\n",
    "    apple_orange_reconstruct = cv2.add(apple_orange_pyramid[i], apple_orange_reconstruct)\n",
    "    \n",
    "cv2.imshow(\"apple\", apple)\n",
    "cv2.imshow(\"orange\", orange)\n",
    "cv2.imshow(\"apple_orange\", apple_orange)\n",
    "cv2.imshow(\"apple_orange_reconstruct\", apple_orange_reconstruct)\n",
    "cv2.waitKey(0)\n",
    "cv2.destroyAllWindows()"
   ]
  },
  {
   "cell_type": "code",
   "execution_count": null,
   "id": "0785bb20-8bde-455e-b245-6fa9261a1967",
   "metadata": {},
   "outputs": [],
   "source": []
  }
 ],
 "metadata": {
  "kernelspec": {
   "display_name": "Python 3 (ipykernel)",
   "language": "python",
   "name": "python3"
  },
  "language_info": {
   "codemirror_mode": {
    "name": "ipython",
    "version": 3
   },
   "file_extension": ".py",
   "mimetype": "text/x-python",
   "name": "python",
   "nbconvert_exporter": "python",
   "pygments_lexer": "ipython3",
   "version": "3.9.7"
  }
 },
 "nbformat": 4,
 "nbformat_minor": 5
}
