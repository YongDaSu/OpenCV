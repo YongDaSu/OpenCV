{
 "cells": [
  {
   "cell_type": "code",
   "execution_count": 1,
   "id": "ca90ef71-df91-4212-8833-02412fffee9f",
   "metadata": {},
   "outputs": [],
   "source": [
    "import pytesseract\n",
    "import cv2 as cv"
   ]
  },
  {
   "cell_type": "code",
   "execution_count": 2,
   "id": "be2aad00-cadb-49e0-9f62-af218f64b88a",
   "metadata": {},
   "outputs": [],
   "source": [
    "img = cv.imread('plate2.jpg')\n",
    "\n",
    "pytesseract.pytesseract.tesseract_cmd = r'C:\\Program Files (x86)\\Tesseract-OCR\\tesseract.exe'"
   ]
  },
  {
   "cell_type": "code",
   "execution_count": 3,
   "id": "8e0420d1-2c08-4f11-b32c-73e0ca13ecc9",
   "metadata": {},
   "outputs": [],
   "source": [
    "#get grayscale image\n",
    "def get_grayscale(image):\n",
    "    return cv.cvtColor(image, cv.COLOR_BGR2GRAY)\n",
    "\n",
    "# noise remove\n",
    "def remove_noise(image):\n",
    "    return cv.medianBlur(image, 5)\n",
    "\n",
    "#threshold\n",
    "def thresholding(image):\n",
    "    return cv.threshold(image, 0, 255, cv.THRESH_BINARY + cv.THRESH_OTSU)[1] #[1] = image"
   ]
  },
  {
   "cell_type": "code",
   "execution_count": 4,
   "id": "ded789ba-9802-48f9-9664-5c84088adfea",
   "metadata": {},
   "outputs": [
    {
     "name": "stdout",
     "output_type": "stream",
     "text": [
      "2799-90\n",
      "\n",
      "\n"
     ]
    }
   ],
   "source": [
    "gray = get_grayscale(img)\n",
    "thresh = thresholding(gray)\n",
    "blur = remove_noise(thresh)\n",
    "\n",
    "cv.imshow('car plate-1(gray)', gray)\n",
    "cv.imwrite('car plate-1(gray).jpg', gray)\n",
    "cv.imshow('car plate-2(thresh)', thresh)\n",
    "cv.imwrite('car plate-2(thresh).jpg', thresh)\n",
    "cv.imshow('car plate-3(blur)', blur)\n",
    "cv.imwrite('car plate-3(blur).jpg', blur)\n",
    "text = pytesseract.image_to_string(gray)\n",
    "print(text)\n",
    "\n",
    "if cv.waitKey(0) & 0xff == 27:\n",
    "    cv.destroyAllWindows()"
   ]
  }
 ],
 "metadata": {
  "kernelspec": {
   "display_name": "Python 3 (ipykernel)",
   "language": "python",
   "name": "python3"
  },
  "language_info": {
   "codemirror_mode": {
    "name": "ipython",
    "version": 3
   },
   "file_extension": ".py",
   "mimetype": "text/x-python",
   "name": "python",
   "nbconvert_exporter": "python",
   "pygments_lexer": "ipython3",
   "version": "3.9.7"
  }
 },
 "nbformat": 4,
 "nbformat_minor": 5
}
