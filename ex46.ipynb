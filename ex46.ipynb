{
 "cells": [
  {
   "cell_type": "code",
   "execution_count": 1,
   "id": "2330f7e5-3ce9-4aea-a883-2d4b2a7dd56a",
   "metadata": {},
   "outputs": [],
   "source": [
    "import numpy as np\n",
    "import cv2 as cv\n",
    "import matplotlib.pyplot as plt"
   ]
  },
  {
   "cell_type": "code",
   "execution_count": 3,
   "id": "ce95b24a-5489-4974-8947-f89db098c0ce",
   "metadata": {},
   "outputs": [
    {
     "data": {
      "image/png": "[encoded data removed]",
      "text/plain": [
       "<Figure size 432x288 with 1 Axes>"
      ]
     },
     "metadata": {
      "needs_background": "light"
     },
     "output_type": "display_data"
    }
   ],
   "source": [
    "cap = cv.VideoCapture('slow_traffic_small.mp4')\n",
    "ret, frame = cap.read()\n",
    "\n",
    "x, y, width, height = 300, 200, 100, 50\n",
    "track_window = (x, y, width, height)\n",
    "\n",
    "roi = frame[y:y+height, x:x+width]\n",
    "hsv_roi = cv.cvtColor(roi, cv.COLOR_BGR2HSV)\n",
    "\n",
    "mask = cv.inRange(hsv_roi, np.array((0., 60., 32.)), np.array((180., 255., 255)))\n",
    "#mask.shape = (50, 100)\n",
    "\n",
    "roi_hist = cv.calcHist([hsv_roi], [0], mask, [180], [0,180])\n",
    "plt.plot(roi_hist)\n",
    "\n",
    "cv.normalize(roi_hist, roi_hist, 0, 255, cv.NORM_MINMAX)\n",
    "\n",
    "term_crit = (cv.TERM_CRITERIA_EPS | cv.TERM_CRITERIA_COUNT, 10, 1)\n",
    "cv.imshow('roi', roi)"
   ]
  },
  {
   "cell_type": "code",
   "execution_count": 5,
   "id": "59d01de4-c7fe-41eb-b9b3-f84b17052593",
   "metadata": {},
   "outputs": [],
   "source": [
    "while(1):\n",
    "    ret, frame = cap.read()\n",
    "    if ret == True:\n",
    "        \n",
    "        hsv = cv.cvtColor(frame, cv.COLOR_BGR2HSV)\n",
    "        dst = cv.calcBackProject([hsv], [0], roi_hist, [0,180], 1)\n",
    "        \n",
    "        ret, track_window = cv.meanShift(dst, track_window, term_crit)\n",
    "        \n",
    "        x, y, w, h = track_window\n",
    "        final_image = cv.rectangle(frame, (x,y), (x+w, y+h), 255, 3)\n",
    "        \n",
    "        cv.imshow('dst', dst)\n",
    "        cv.imshow('final_image', final_image)\n",
    "        k = cv.waitKey(30) & 0xFF\n",
    "        if k == 27:\n",
    "            break\n",
    "    \n",
    "    else:\n",
    "        break\n",
    "cap.release()\n",
    "cv.destroyAllWindows()"
   ]
  }
 ],
 "metadata": {
  "kernelspec": {
   "display_name": "Python 3 (ipykernel)",
   "language": "python",
   "name": "python3"
  },
  "language_info": {
   "codemirror_mode": {
    "name": "ipython",
    "version": 3
   },
   "file_extension": ".py",
   "mimetype": "text/x-python",
   "name": "python",
   "nbconvert_exporter": "python",
   "pygments_lexer": "ipython3",
   "version": "3.9.7"
  }
 },
 "nbformat": 4,
 "nbformat_minor": 5
}
