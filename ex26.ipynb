{
 "cells": [
  {
   "cell_type": "code",
   "execution_count": 1,
   "id": "19856f36-512f-4f77-b18f-2c1fe3ef3e9e",
   "metadata": {},
   "outputs": [],
   "source": [
    "import cv2"
   ]
  },
  {
   "cell_type": "code",
   "execution_count": 2,
   "id": "9ecc716b-4837-4d4f-9c2b-ba54da0bdc64",
   "metadata": {},
   "outputs": [
    {
     "name": "stdout",
     "output_type": "stream",
     "text": [
      "(512, 512, 3)\n",
      "\n",
      "Zoom In-Out demo\n",
      "------------------\n",
      "* [i] -> Zoom [i]n\n",
      "* [o] -> Zoom [o]ut\n",
      "* [ESC] -> Close program\n",
      "\n",
      "** Zoom In: Image x 2\n",
      "** Zoom In: Image x 2\n",
      "** Zoom Out: Image / 2\n",
      "** Zoom Out: Image / 2\n",
      "** Zoom Out: Image / 2\n",
      "** Zoom Out: Image / 2\n",
      "** Zoom In: Image x 2\n",
      "** Zoom In: Image x 2\n",
      "** Zoom In: Image x 2\n",
      "** Zoom In: Image x 2\n",
      "** Zoom Out: Image / 2\n",
      "** Zoom Out: Image / 2\n",
      "** Zoom Out: Image / 2\n",
      "** Zoom Out: Image / 2\n",
      "** Zoom Out: Image / 2\n",
      "** Zoom In: Image x 2\n",
      "** Zoom In: Image x 2\n",
      "** Zoom Out: Image / 2\n",
      "** Zoom Out: Image / 2\n",
      "** Zoom Out: Image / 2\n",
      "** Zoom In: Image x 2\n",
      "** Zoom In: Image x 2\n",
      "** Zoom In: Image x 2\n",
      "** Zoom In: Image x 2\n",
      "** Zoom In: Image x 2\n",
      "** Zoom In: Image x 2\n",
      "** Zoom Out: Image / 2\n",
      "** Zoom Out: Image / 2\n",
      "** Zoom Out: Image / 2\n",
      "** Zoom Out: Image / 2\n",
      "** Zoom Out: Image / 2\n",
      "** Zoom Out: Image / 2\n",
      "** Zoom Out: Image / 2\n",
      "** Zoom Out: Image / 2\n",
      "** Zoom In: Image x 2\n",
      "** Zoom In: Image x 2\n",
      "** Zoom In: Image x 2\n",
      "** Zoom In: Image x 2\n",
      "** Zoom In: Image x 2\n",
      "** Zoom In: Image x 2\n",
      "** Zoom In: Image x 2\n",
      "** Zoom In: Image x 2\n",
      "** Zoom Out: Image / 2\n",
      "** Zoom Out: Image / 2\n"
     ]
    }
   ],
   "source": [
    "img = cv2.imread(\"lena.jpg\")\n",
    "print(img.shape) # (512, 512, 3)\n",
    "print(\"\"\"\n",
    "Zoom In-Out demo\n",
    "------------------\n",
    "* [i] -> Zoom [i]n\n",
    "* [o] -> Zoom [o]ut\n",
    "* [ESC] -> Close program\n",
    "\"\"\")\n",
    "\n",
    "#map 取代for迴圈\n",
    "while True:\n",
    "    rows, cols, _channels = map(int, img.shape)\n",
    "    cv2.imshow('Pyramids Demo', img)\n",
    "    k = cv2.waitKey(0)\n",
    "    \n",
    "    if k == 27:\n",
    "        break\n",
    "    elif chr(k) == 'i':\n",
    "        img = cv2.pyrUp(img, dstsize=(2 * cols, 2 * rows))\n",
    "        print ('** Zoom In: Image x 2')\n",
    "    elif chr(k) == 'o':\n",
    "        img = cv2.pyrDown(img, dstsize=(cols // 2, rows // 2))\n",
    "        print ('** Zoom Out: Image / 2')\n",
    "cv2.destroyAllWindows()"
   ]
  },
  {
   "cell_type": "code",
   "execution_count": null,
   "id": "e6f36c01-7882-40a6-8125-e42cfdde9a84",
   "metadata": {},
   "outputs": [],
   "source": []
  }
 ],
 "metadata": {
  "kernelspec": {
   "display_name": "Python 3 (ipykernel)",
   "language": "python",
   "name": "python3"
  },
  "language_info": {
   "codemirror_mode": {
    "name": "ipython",
    "version": 3
   },
   "file_extension": ".py",
   "mimetype": "text/x-python",
   "name": "python",
   "nbconvert_exporter": "python",
   "pygments_lexer": "ipython3",
   "version": "3.9.7"
  }
 },
 "nbformat": 4,
 "nbformat_minor": 5
}
