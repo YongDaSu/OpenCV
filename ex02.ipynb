{
 "cells": [
  {
   "cell_type": "code",
   "execution_count": 1,
   "id": "465d1a89",
   "metadata": {},
   "outputs": [],
   "source": [
    "import cv2"
   ]
  },
  {
   "cell_type": "code",
   "execution_count": 2,
   "id": "de6be26f",
   "metadata": {},
   "outputs": [],
   "source": [
    "def test():\n",
    "    img = cv2.imread('lena.jpg')\n",
    "    while True:\n",
    "        cv2.imshow('lena image', img)\n",
    "        if cv2.waitKey(1) & 0xFF == ord('q'): #'q' 指定按鍵為q\n",
    "            print('i am done')\n",
    "            cv2.destroyAllWindows()\n",
    "            break"
   ]
  },
  {
   "cell_type": "markdown",
   "id": "79ddb0a1",
   "metadata": {},
   "source": [
    "cv2.waitKey(1) & 0xFF（1111 1111）是因為cv2.waitKey(1) 的返回值是32bit，但是只有後8位實際有效，為避免產生干擾，通過 & 0xFF 操作將其餘位置設0。"
   ]
  },
  {
   "cell_type": "code",
   "execution_count": 3,
   "id": "570a6e40",
   "metadata": {},
   "outputs": [
    {
     "name": "stdout",
     "output_type": "stream",
     "text": [
      "i am done\n"
     ]
    }
   ],
   "source": [
    "if __name__ == '__main__': \n",
    "    test()"
   ]
  },
  {
   "cell_type": "markdown",
   "id": "077bfe18",
   "metadata": {},
   "source": [
    "當.py檔案被直接執行時，if __name__ ==\n",
    "'__main__'之下的程式碼塊將被執行；當.py檔案\n",
    "以模組形式被匯入時，if __name__ == '__main__'\n",
    "之下的程式碼塊不被執行。"
   ]
  },
  {
   "cell_type": "code",
   "execution_count": null,
   "id": "cdb5796e",
   "metadata": {},
   "outputs": [],
   "source": []
  }
 ],
 "metadata": {
  "kernelspec": {
   "display_name": "Python 3 (ipykernel)",
   "language": "python",
   "name": "python3"
  },
  "language_info": {
   "codemirror_mode": {
    "name": "ipython",
    "version": 3
   },
   "file_extension": ".py",
   "mimetype": "text/x-python",
   "name": "python",
   "nbconvert_exporter": "python",
   "pygments_lexer": "ipython3",
   "version": "3.9.7"
  }
 },
 "nbformat": 4,
 "nbformat_minor": 5
}
