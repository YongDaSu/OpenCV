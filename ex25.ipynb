{
 "cells": [
  {
   "cell_type": "markdown",
   "id": "7afb76ba-778f-4cfe-bc4e-096950f0b6c8",
   "metadata": {},
   "source": [
    "# Canny + Track bar"
   ]
  },
  {
   "cell_type": "code",
   "execution_count": 1,
   "id": "b84e8380-225e-47f7-9ab5-095202c822e1",
   "metadata": {},
   "outputs": [],
   "source": [
    "import cv2 \n",
    "import numpy as np\n",
    "from matplotlib import pyplot as plt"
   ]
  },
  {
   "cell_type": "code",
   "execution_count": 2,
   "id": "f4d0579f-0340-4b42-b2bf-cfca2fa272e8",
   "metadata": {},
   "outputs": [],
   "source": [
    "def CannyThreshold(lowThreshold):\n",
    "    detected_edges = cv2.GaussianBlur(gray, (3,3), 0)\n",
    "    detected_edges = cv2.Canny(detected_edges, lowThreshold, lowThreshold*ratio, apertureSize = kernel_size)\n",
    "    dst = cv2.bitwise_and(img, img, mask = detected_edges)\n",
    "    cv2.imshow('canny demo', dst)"
   ]
  },
  {
   "cell_type": "code",
   "execution_count": 3,
   "id": "40e212a9-255d-4b14-ae19-f83b3c3a1590",
   "metadata": {},
   "outputs": [],
   "source": [
    "lowThreshold = 0\n",
    "max_lowThreshold = 100\n",
    "ratio = 3\n",
    "kernel_size = 3"
   ]
  },
  {
   "cell_type": "code",
   "execution_count": 4,
   "id": "c8e2a6d9-9273-43bd-b930-4bea2e684283",
   "metadata": {},
   "outputs": [],
   "source": [
    "img = cv2.imread('lena.jpg')\n",
    "gray = cv2.cvtColor(img,cv2.COLOR_BGR2GRAY)"
   ]
  },
  {
   "cell_type": "code",
   "execution_count": 5,
   "id": "6dba710a-82c3-4102-9802-8f6ba317e9ca",
   "metadata": {},
   "outputs": [],
   "source": [
    "cv2.namedWindow('canny demo')\n",
    "cv2.createTrackbar('Min threshold', 'canny demo', lowThreshold, max_lowThreshold, CannyThreshold)\n",
    "CannyThreshold(0)\n",
    "if cv2.waitKey(0) == 27:\n",
    "    cv2.destroyAllWindows()"
   ]
  },
  {
   "cell_type": "code",
   "execution_count": null,
   "id": "4931fb28-5bb0-4b19-9602-d8c517446c8d",
   "metadata": {},
   "outputs": [],
   "source": []
  }
 ],
 "metadata": {
  "kernelspec": {
   "display_name": "Python 3 (ipykernel)",
   "language": "python",
   "name": "python3"
  },
  "language_info": {
   "codemirror_mode": {
    "name": "ipython",
    "version": 3
   },
   "file_extension": ".py",
   "mimetype": "text/x-python",
   "name": "python",
   "nbconvert_exporter": "python",
   "pygments_lexer": "ipython3",
   "version": "3.9.7"
  }
 },
 "nbformat": 4,
 "nbformat_minor": 5
}
