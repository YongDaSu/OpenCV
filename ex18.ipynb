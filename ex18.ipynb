{
 "cells": [
  {
   "cell_type": "markdown",
   "id": "c1f758b9-3ac7-41a4-9827-ee477664b554",
   "metadata": {},
   "source": [
    "# simple image thresholding"
   ]
  },
  {
   "cell_type": "markdown",
   "id": "e3c2e4b2-32fa-4974-942c-b9335a3f6a7c",
   "metadata": {},
   "source": [
    "cv2.threshold(src image, thresh, maxVal, method) : 4 parameters  \n",
    "1. source image  \n",
    "2. threshold value  比較的門檻值\n",
    "3. max value  \n",
    "4.method  \n",
    "*threshold: 門檻值，臨界點  \n",
    "\n",
    "method種類  \n",
    "cv2.THRESH_BINARY  \n",
    "cv2.THRESH_BINARY_INV(inverse)  \n",
    "cv2.THRESH_TRUNC(truncation)  \n",
    "cv2.THRESH_TOZERO  \n",
    "cv2.THRESH_TOZERO_INV  "
   ]
  },
  {
   "cell_type": "markdown",
   "id": "7347be4b-3b71-4ded-ab46-1e3a70370f68",
   "metadata": {},
   "source": [
    "![ ](method.jpg)"
   ]
  },
  {
   "cell_type": "code",
   "execution_count": 3,
   "id": "e1d4d88a",
   "metadata": {},
   "outputs": [],
   "source": [
    "import cv2 as cv\n",
    "import matplotlib.pyplot as plt"
   ]
  },
  {
   "cell_type": "code",
   "execution_count": 4,
   "id": "d292e3a1",
   "metadata": {},
   "outputs": [],
   "source": [
    "img = cv. imread('gradient.png', 0 ) #讀進來轉灰階"
   ]
  },
  {
   "cell_type": "code",
   "execution_count": 6,
   "id": "4846488d",
   "metadata": {},
   "outputs": [],
   "source": [
    "ret,thresh1 = cv.threshold(img, 127, 255, cv.THRESH_BINARY)\n",
    "ret,thresh2 = cv.threshold(img, 127, 255, cv.THRESH_BINARY_INV)\n",
    "ret,thresh3 = cv.threshold(img, 127, 255, cv.THRESH_TRUNC)\n",
    "ret,thresh4 = cv.threshold(img, 127, 255, cv.THRESH_TOZERO)\n",
    "ret,thresh5 = cv.threshold(img, 127, 255, cv.THRESH_TOZERO_INV)"
   ]
  },
  {
   "cell_type": "code",
   "execution_count": 8,
   "id": "16be217b",
   "metadata": {},
   "outputs": [
    {
     "data": {
      "image/png": "[encoded data removed]",
      "text/plain": [
       "<Figure size 432x288 with 6 Axes>"
      ]
     },
     "metadata": {},
     "output_type": "display_data"
    }
   ],
   "source": [
    "titles = ['Original Image', 'BINARY', 'BINARY_INV', 'TRUNC', 'TOZERO', 'TOZERO_INV']\n",
    "images = [img, thresh1, thresh2, thresh3, thresh4, thresh5]\n",
    "\n",
    "for i in range(6):\n",
    "    plt.subplot(2,3,i+1)\n",
    "    #           (兩列, 三行)\n",
    "    plt.imshow(images[i], 'gray', vmin=0, vmax=255)\n",
    "    plt.title(titles[i])\n",
    "    plt.xticks([]),plt.yticks([])\n",
    "    \n",
    "plt.show()"
   ]
  },
  {
   "cell_type": "code",
   "execution_count": null,
   "id": "41369081",
   "metadata": {},
   "outputs": [],
   "source": []
  }
 ],
 "metadata": {
  "kernelspec": {
   "display_name": "Python 3 (ipykernel)",
   "language": "python",
   "name": "python3"
  },
  "language_info": {
   "codemirror_mode": {
    "name": "ipython",
    "version": 3
   },
   "file_extension": ".py",
   "mimetype": "text/x-python",
   "name": "python",
   "nbconvert_exporter": "python",
   "pygments_lexer": "ipython3",
   "version": "3.9.7"
  }
 },
 "nbformat": 4,
 "nbformat_minor": 5
}
