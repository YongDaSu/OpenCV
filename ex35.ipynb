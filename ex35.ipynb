{
 "cells": [
  {
   "cell_type": "code",
   "execution_count": 1,
   "id": "cb9f0b79-def2-457c-aab7-679582a8ac4e",
   "metadata": {},
   "outputs": [],
   "source": [
    "import cv2\n",
    "import numpy as np"
   ]
  },
  {
   "cell_type": "code",
   "execution_count": 7,
   "id": "d38bae11-cc71-438d-87b7-7ebe02b4e7c3",
   "metadata": {},
   "outputs": [],
   "source": [
    "img = cv2.imread('sudoku.png')\n",
    "gray = cv2.cvtColor(img, cv2.COLOR_BGR2GRAY)\n",
    "edges = cv2.Canny(gray, 50, 150, apertureSize=3)\n",
    "cv2.imshow('edge',\n",
    "           edges)\n",
    "lines = cv2.HoughLines(edges, 1, np.pi / 180, 200)  #(29,1,2)\n",
    "#(no of lines, rho, theta)\n",
    "\n",
    "for line in lines:\n",
    "    rho, theta = line[0]\n",
    "    c = np.cos(theta)\n",
    "    s = np.sin(theta)\n",
    "    x0 = c * rho\n",
    "    y0 = s * rho\n",
    "    # x1 stores the rounded off value of (r * cos(theta) - 1000 * sin(theta))\n",
    "    x1 = int (x0 + 1000 * (-s))\n",
    "    y1 = int (y0 + 1000 * (c))\n",
    "    \n",
    "    x2 = int (x0 - 1000 * (-s))\n",
    "    y2 = int (y0 - 1000 * (c))\n",
    "    cv2.line(img, (x1, y1), (x2, y2), (0, 0, 255), 2)\n",
    "    \n",
    "cv2.imshow('Hough Lines', img)\n",
    "k = cv2.waitKey(0)\n",
    "cv2.destroyAllWindows()"
   ]
  }
 ],
 "metadata": {
  "kernelspec": {
   "display_name": "Python 3 (ipykernel)",
   "language": "python",
   "name": "python3"
  },
  "language_info": {
   "codemirror_mode": {
    "name": "ipython",
    "version": 3
   },
   "file_extension": ".py",
   "mimetype": "text/x-python",
   "name": "python",
   "nbconvert_exporter": "python",
   "pygments_lexer": "ipython3",
   "version": "3.9.7"
  }
 },
 "nbformat": 4,
 "nbformat_minor": 5
}
