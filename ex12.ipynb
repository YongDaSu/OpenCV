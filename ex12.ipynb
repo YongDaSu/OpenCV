{
 "cells": [
  {
   "cell_type": "markdown",
   "id": "b130b626",
   "metadata": {},
   "source": [
    "# resize, add, addWeighted"
   ]
  },
  {
   "cell_type": "code",
   "execution_count": 6,
   "id": "20cb79a0",
   "metadata": {},
   "outputs": [],
   "source": [
    "import cv2"
   ]
  },
  {
   "cell_type": "code",
   "execution_count": 15,
   "id": "19b97d05",
   "metadata": {},
   "outputs": [],
   "source": [
    "img = cv2.imread('messi5.jpg') # 548x342\n",
    "img2 = cv2.imread('opencv-logo.png') # 600x794"
   ]
  },
  {
   "cell_type": "code",
   "execution_count": 16,
   "id": "19ccc5f9",
   "metadata": {},
   "outputs": [],
   "source": [
    "img = cv2.resize(img, (512, 512))\n",
    "img2 = cv2.resize(img2, (512,512))\n",
    "#改變列&行變一樣"
   ]
  },
  {
   "cell_type": "markdown",
   "id": "1542c916",
   "metadata": {},
   "source": [
    "addWeighted(src1, alpha, src2, beta, gamma, dst=None, dtype=None)\n",
    "dst(I)=saturate(src1(I)∗alpha+src2(I)∗beta+gamma)"
   ]
  },
  {
   "cell_type": "code",
   "execution_count": 19,
   "id": "979503e1",
   "metadata": {},
   "outputs": [],
   "source": [
    "#dst = cv2.add(img, img2);\n",
    "dst = cv2.addWeighted(img, 0.8, img2, 0.2, 0) # image blending 圖像融合\n",
    "cv2.imshow('image', dst)\n",
    "cv2.waitKey(0)\n",
    "cv2.destroyAllWindows()"
   ]
  },
  {
   "cell_type": "code",
   "execution_count": null,
   "id": "14d7dce2",
   "metadata": {},
   "outputs": [],
   "source": []
  }
 ],
 "metadata": {
  "kernelspec": {
   "display_name": "Python 3 (ipykernel)",
   "language": "python",
   "name": "python3"
  },
  "language_info": {
   "codemirror_mode": {
    "name": "ipython",
    "version": 3
   },
   "file_extension": ".py",
   "mimetype": "text/x-python",
   "name": "python",
   "nbconvert_exporter": "python",
   "pygments_lexer": "ipython3",
   "version": "3.9.7"
  }
 },
 "nbformat": 4,
 "nbformat_minor": 5
}
