{
 "cells": [
  {
   "cell_type": "code",
   "execution_count": 1,
   "id": "13bfc134",
   "metadata": {},
   "outputs": [],
   "source": [
    "import cv2\n",
    "import numpy as np\n",
    "def click_event(event, x, y, flags, param):\n",
    "    if event == cv2.EVENT_LBUTTONDOWN:\n",
    "        blue = img[y, x, 0]\n",
    "        green = img[y, x, 1]\n",
    "        red = img[y, x, 2]\n",
    "        cv2.circle(img, (x, y), 3, (0, 0, 255), -1)\n",
    "        #顯示你點的那一點\n",
    "        cv2.imshow('image', img)\n",
    "        mycolorImage = np.zeros((512, 512, 3), np.uint8) # black image\n",
    "        #先開一個全黑的3通道\n",
    "        mycolorImage[:] = [blue, green, red]\n",
    "        cv2.imshow('color',mycolorImage)\n",
    "img = cv2.imread('lena.jpg')\n",
    "cv2.imshow('image', img)\n",
    "cv2.setMouseCallback('image', click_event)\n",
    "\n",
    "cv2.waitKey(0)\n",
    "cv2.destroyAllWindows()"
   ]
  },
  {
   "cell_type": "code",
   "execution_count": null,
   "id": "ba0c4a83",
   "metadata": {},
   "outputs": [],
   "source": []
  }
 ],
 "metadata": {
  "kernelspec": {
   "display_name": "Python 3 (ipykernel)",
   "language": "python",
   "name": "python3"
  },
  "language_info": {
   "codemirror_mode": {
    "name": "ipython",
    "version": 3
   },
   "file_extension": ".py",
   "mimetype": "text/x-python",
   "name": "python",
   "nbconvert_exporter": "python",
   "pygments_lexer": "ipython3",
   "version": "3.9.7"
  }
 },
 "nbformat": 4,
 "nbformat_minor": 5
}
