{
 "cells": [
  {
   "cell_type": "code",
   "execution_count": 1,
   "id": "ec6a671c-e420-41d3-b556-c2ca807a1d39",
   "metadata": {},
   "outputs": [],
   "source": [
    "import cv2"
   ]
  },
  {
   "cell_type": "code",
   "execution_count": 2,
   "id": "1add955c-1f35-4f85-aeb7-e9c035e17d8e",
   "metadata": {},
   "outputs": [],
   "source": [
    "face_cascade = cv2.CascadeClassifier('haarcascade_frontalface_alt.xml')\n",
    "eye_cascade = cv2.CascadeClassifier('haarcascade_eye_tree_eyeglasses.xml')\n",
    "#read the image\n",
    "img = cv2.imread('HW5.jpeg')\n",
    "#cap = cv2.VideoCapture(0) #('test.mp4')"
   ]
  },
  {
   "cell_type": "markdown",
   "id": "d4e3e107-4559-46a4-964e-a182c9f1af0c",
   "metadata": {},
   "source": [
    "while cap.isOpened():\n",
    "    _, img = cap.read()\n",
    "    \n",
    "    gray = cv2.cvtColor(img, cv2.COLOR_BGR2GRAY)\n",
    "    faces = face_cascade.detectMultiScale(gray, 1.1, 3)\n",
    "    \n",
    "    for (x, y, w, h) in faces:\n",
    "        cv2.rectangle(img, (x,y), (x+w, y+h), (255,0,0), 3) #blue\n",
    "        faceROI = gray[y:y+h, x:x+w]\n",
    "        \n",
    "        eyes = eye_cascade.detectMultiScale(faceROI, 1.1, 3)\n",
    "        for (x2, y2, w2, h2) in eyes:\n",
    "            eye_center = (x + x2 + w2//2, y + y2 + h2//2)\n",
    "            radius = int(round((w2+h2) * 0.25))\n",
    "            frame = cv2.circle(img, eye_center, radius, (0,0,255), 3) #red\n",
    "    \n",
    "    #display the output\n",
    "    cv2.imshow('img' , img)\n",
    "    if cv2.waitKey(1) & 0xFF == ord('q'):\n",
    "        break\n",
    "\n",
    "cap.release()\n",
    "cv2.destroyAllWindows()"
   ]
  },
  {
   "cell_type": "code",
   "execution_count": 3,
   "id": "696e7806-d9d0-40a8-85d1-417b35b21376",
   "metadata": {},
   "outputs": [],
   "source": [
    "#img = cap.read()\n",
    "    \n",
    "gray = cv2.cvtColor(img, cv2.COLOR_BGR2GRAY)\n",
    "faces = face_cascade.detectMultiScale(gray, 1.1, 1)\n",
    "#faces = face_cascade.detectMultiScale(gray, 1.1, 1)\n",
    "    \n",
    "for (x, y, w, h) in faces:\n",
    "    cv2.rectangle(img, (x,y), (x+w, y+h), (50,100,255), 3) #blue\n",
    "    faceROI = gray[y:y+h, x:x+w]\n",
    "        \n",
    "    eyes = eye_cascade.detectMultiScale(faceROI, scaleFactor=1.1, minNeighbors=3, minSize=(30,30))\n",
    "    #eyes = eye_cascade.detectMultiScale(faceROI, scaleFactor=1.05, minNeighbors=3, minSize=(40,40))\n",
    "    for (x2, y2, w2, h2) in eyes:\n",
    "        eye_center = (x + x2 + w2//2, y + y2 + h2//2)\n",
    "        radius = int(round((w2+h2) * 0.25))\n",
    "        frame = cv2.circle(img, eye_center, radius, (100,255,0), 3) #red\n",
    "    \n",
    "#display the output\n",
    "cv2.imwrite('HW5_res.jpg', img)\n",
    "cv2.imshow('img' , img)\n",
    "cv2.waitKey(0)\n",
    "cv2.destroyAllWindows()"
   ]
  },
  {
   "cell_type": "code",
   "execution_count": null,
   "id": "3dabdd32-b99e-4a0f-88aa-3b27afd68769",
   "metadata": {},
   "outputs": [],
   "source": []
  }
 ],
 "metadata": {
  "kernelspec": {
   "display_name": "Python 3 (ipykernel)",
   "language": "python",
   "name": "python3"
  },
  "language_info": {
   "codemirror_mode": {
    "name": "ipython",
    "version": 3
   },
   "file_extension": ".py",
   "mimetype": "text/x-python",
   "name": "python",
   "nbconvert_exporter": "python",
   "pygments_lexer": "ipython3",
   "version": "3.9.7"
  }
 },
 "nbformat": 4,
 "nbformat_minor": 5
}
