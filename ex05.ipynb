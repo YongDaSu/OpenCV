{
 "cells": [
  {
   "cell_type": "markdown",
   "id": "1ab700c4-d3ee-4986-9842-18142712cf19",
   "metadata": {},
   "source": [
    "ex3 的延伸，用cap.set指定影片大小"
   ]
  },
  {
   "cell_type": "code",
   "execution_count": 1,
   "id": "54f40044",
   "metadata": {},
   "outputs": [
    {
     "name": "stdout",
     "output_type": "stream",
     "text": [
      "640.0\n",
      "480.0\n",
      "1280.0\n",
      "720.0\n"
     ]
    }
   ],
   "source": [
    "import cv2\n",
    "cap = cv2.VideoCapture(0, cv2.CAP_DSHOW)\n",
    "print(cap.get(cv2.CAP_PROP_FRAME_WIDTH)) # 640\n",
    "print(cap.get(cv2.CAP_PROP_FRAME_HEIGHT)) # 480\n",
    "cap.set(3, 1280) # highest resolution\n",
    "cap.set(4, 720) # highest resolution\n",
    "print(cap.get(3))\n",
    "print(cap.get(4))\n",
    "while (cap.isOpened()):\n",
    "    ret, frame = cap.read()\n",
    "    if ret == True:\n",
    "        #frame = cv2.cvtColor(frame, cv2.COLOR_BGR2GRAY)\n",
    "        cv2.imshow('gray video', frame) # show gray video\n",
    "        if cv2.waitKey(1) & 0xFF == ord('q'):\n",
    "            break\n",
    "    else:\n",
    "        print(\"can't read video\")\n",
    "        break\n",
    "        \n",
    "cap.release()\n",
    "cv2.destroyAllWindows()"
   ]
  }
 ],
 "metadata": {
  "kernelspec": {
   "display_name": "Python 3 (ipykernel)",
   "language": "python",
   "name": "python3"
  },
  "language_info": {
   "codemirror_mode": {
    "name": "ipython",
    "version": 3
   },
   "file_extension": ".py",
   "mimetype": "text/x-python",
   "name": "python",
   "nbconvert_exporter": "python",
   "pygments_lexer": "ipython3",
   "version": "3.9.7"
  }
 },
 "nbformat": 4,
 "nbformat_minor": 5
}
