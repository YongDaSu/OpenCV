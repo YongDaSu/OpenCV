{
 "cells": [
  {
   "cell_type": "code",
   "execution_count": 1,
   "id": "dbfa7ef3-858d-440e-aefa-f66e8bc7a398",
   "metadata": {},
   "outputs": [],
   "source": [
    "import numpy as np\n",
    "import cv2 as cv"
   ]
  },
  {
   "cell_type": "code",
   "execution_count": 9,
   "id": "673a79d9-3aa7-43bb-949a-8558ba68b522",
   "metadata": {},
   "outputs": [],
   "source": [
    "#img = cv.imread('blox.jpg')\n",
    "img = cv.imread('chessboard.png')\n",
    "img = cv.resize(img, (512,512))\n",
    "cv.imshow('img', img)\n",
    "\n",
    "gray = cv.cvtColor(img, cv.COLOR_BGR2GRAY)\n",
    "gray = np.float32(gray)\n",
    "\n",
    "dst1 = cv.cornerHarris(gray, 2, 3, 0.04)\n",
    "#dst1 = cv.cornerHarris(gray, 50, 3, 0.04)\n",
    "\n",
    "dst = cv.dilate(dst1, None)\n",
    "\n",
    "cv.imshow('dst', dst)\n",
    "\n",
    "img[dst > 0.01 *dst.max()] = [0, 0, 255]\n",
    "\n",
    "cv.imshow('corner', img)\n",
    "\n",
    "if cv.waitKey(0) & 0xff == 27:\n",
    "    cv.destroyAllWindows()\n",
    "    \n"
   ]
  }
 ],
 "metadata": {
  "kernelspec": {
   "display_name": "Python 3 (ipykernel)",
   "language": "python",
   "name": "python3"
  },
  "language_info": {
   "codemirror_mode": {
    "name": "ipython",
    "version": 3
   },
   "file_extension": ".py",
   "mimetype": "text/x-python",
   "name": "python",
   "nbconvert_exporter": "python",
   "pygments_lexer": "ipython3",
   "version": "3.9.7"
  }
 },
 "nbformat": 4,
 "nbformat_minor": 5
}
