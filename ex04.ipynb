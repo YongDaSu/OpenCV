{
 "cells": [
  {
   "cell_type": "code",
   "execution_count": 1,
   "id": "9486675a",
   "metadata": {},
   "outputs": [],
   "source": [
    "import numpy as np\n",
    "import cv2"
   ]
  },
  {
   "cell_type": "code",
   "execution_count": 2,
   "id": "61cc0633",
   "metadata": {},
   "outputs": [],
   "source": [
    "img = cv2.imread('lena.jpg',1) # color (default)\n",
    "#img = np.zeros([512, 512, 3], np.uint8) # black image\n",
    "\n",
    "img = cv2.line(img, (0, 0), (255, 255), (255, 153, 187), 10) # color=(b,g,r)\n",
    "#畫一條線              起點      終點       B    G    R   線粗  \n",
    "img = cv2.arrowedLine(img, (0, 255), (255, 255), (255, 0, 0), 10)\n",
    "#畫有箭頭的線 "
   ]
  },
  {
   "cell_type": "code",
   "execution_count": 3,
   "id": "6d81390c",
   "metadata": {},
   "outputs": [],
   "source": [
    "img = cv2.rectangle(img, (384, 0), (510, 128), (0, 0, 255), 10)\n",
    "#畫長方形                   左上        右下\n",
    "img = cv2.circle(img, (447, 63), 63, (0, 255, 0), -1) # fill in\n",
    "#畫圓                    圓心    半徑              填滿\n",
    "font = cv2.FONT_HERSHEY_SIMPLEX #字體\n",
    "img = cv2.putText(img, 'OpenCV', (10, 500), font, 4, (0, 255, 255), 10, cv2.LINE_AA)"
   ]
  },
  {
   "cell_type": "code",
   "execution_count": 4,
   "id": "02ca4dc7",
   "metadata": {},
   "outputs": [
    {
     "data": {
      "text/plain": [
       "True"
      ]
     },
     "execution_count": 4,
     "metadata": {},
     "output_type": "execute_result"
    }
   ],
   "source": [
    "cv2.imshow('geomatric image',img)\n",
    "cv2.waitKey(0) # waits until a key is pressed\n",
    "cv2.destroyAllWindows()\n",
    "cv2.imwrite('lena_opencv.jpg',img)"
   ]
  },
  {
   "cell_type": "markdown",
   "id": "98d6bfaf",
   "metadata": {},
   "source": [
    "####  選顏色 https://rgbcolorcode.com/ "
   ]
  },
  {
   "cell_type": "markdown",
   "id": "d837b52d",
   "metadata": {},
   "source": [
    "!['123'](lena_opencv.jpg)"
   ]
  }
 ],
 "metadata": {
  "kernelspec": {
   "display_name": "Python 3 (ipykernel)",
   "language": "python",
   "name": "python3"
  },
  "language_info": {
   "codemirror_mode": {
    "name": "ipython",
    "version": 3
   },
   "file_extension": ".py",
   "mimetype": "text/x-python",
   "name": "python",
   "nbconvert_exporter": "python",
   "pygments_lexer": "ipython3",
   "version": "3.9.7"
  }
 },
 "nbformat": 4,
 "nbformat_minor": 5
}
