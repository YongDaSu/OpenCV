{
 "cells": [
  {
   "cell_type": "markdown",
   "id": "614101f2-0718-437d-8dc1-9a1a5ea586a3",
   "metadata": {},
   "source": [
    "# Smoothing Images | Bluring Images"
   ]
  },
  {
   "cell_type": "code",
   "execution_count": null,
   "id": "e699247c-3cb7-414a-bd11-f1115e22a014",
   "metadata": {},
   "outputs": [],
   "source": []
  },
  {
   "cell_type": "code",
   "execution_count": 1,
   "id": "3bd700a6-788d-4941-b327-41c8b6636270",
   "metadata": {},
   "outputs": [],
   "source": [
    "import cv2\n",
    "import numpy as np\n",
    "from matplotlib import pyplot as plt"
   ]
  },
  {
   "cell_type": "code",
   "execution_count": 6,
   "id": "c410a0db-556d-4742-8593-7acb39bf0d2b",
   "metadata": {},
   "outputs": [],
   "source": [
    "#img = cv2.imread('photo_video/lena.jpg')\n",
    "#img = cv2.imread('photo_video/opencv-logo.png')\n",
    "#img = cv2.imread('photo_video/water.png')\n",
    "img = cv2.imread('photo_video/Halftone_Gaussian_Blur.jpg')\n",
    "img = cv2.cvtColor(img, cv2.COLOR_BGR2RGB)"
   ]
  },
  {
   "cell_type": "code",
   "execution_count": null,
   "id": "11b95165-fc2c-457c-a91b-d53b10edddd1",
   "metadata": {},
   "outputs": [],
   "source": [
    "kernel = np.ones((5, 5), np.float32)/25\n",
    "dst = cv2.filter2D(img, -1, kernel)\n",
    "blur = cv2.blur(img, (5,5 ))\n",
    "gblur = cv2.GaussianBlur(img, (5,5), 0)\n",
    "median = cv2.medianBlur(img, 5)\n",
    "bilateralFilter = cv2.bilateralFilter(img, 9, 75, 75)"
   ]
  },
  {
   "cell_type": "code",
   "execution_count": null,
   "id": "2a7e056b-5ae3-4079-a68d-b80bef5a11a6",
   "metadata": {},
   "outputs": [],
   "source": [
    "titles = ['image', '2D Convolution', 'blur', 'GaussianBlur', 'median', 'bilateralFilter']\n",
    "images = [img, dst, blur, gblur, median, bilateralFilter]"
   ]
  },
  {
   "cell_type": "code",
   "execution_count": null,
   "id": "53bd5543-4043-484a-90be-3ac7e9c79626",
   "metadata": {},
   "outputs": [],
   "source": [
    "for i in range(6):\n",
    "    plt.subplot(2, 3, i+1), plt.imshow(images[i], 'gray')\n",
    "    plt.title(title[i])\n",
    "    plt.xticks([]),plt.yticks([])"
   ]
  },
  {
   "cell_type": "code",
   "execution_count": null,
   "id": "31bd9974-cf41-411a-8911-5b82c182b56b",
   "metadata": {},
   "outputs": [],
   "source": [
    "plt.show()"
   ]
  },
  {
   "cell_type": "code",
   "execution_count": null,
   "id": "bc79975b-61ec-43a5-ac5b-b77ecf31a9d9",
   "metadata": {},
   "outputs": [],
   "source": []
  }
 ],
 "metadata": {
  "kernelspec": {
   "display_name": "Python 3 (ipykernel)",
   "language": "python",
   "name": "python3"
  },
  "language_info": {
   "codemirror_mode": {
    "name": "ipython",
    "version": 3
   },
   "file_extension": ".py",
   "mimetype": "text/x-python",
   "name": "python",
   "nbconvert_exporter": "python",
   "pygments_lexer": "ipython3",
   "version": "3.9.7"
  }
 },
 "nbformat": 4,
 "nbformat_minor": 5
}
