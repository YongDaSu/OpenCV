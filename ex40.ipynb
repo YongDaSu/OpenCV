{
 "cells": [
  {
   "cell_type": "code",
   "execution_count": 1,
   "id": "73989b16-511b-40e4-8362-db6f78b8c68f",
   "metadata": {},
   "outputs": [],
   "source": [
    "import numpy as np\n",
    "import cv2 as cv"
   ]
  },
  {
   "cell_type": "code",
   "execution_count": 3,
   "id": "7c64a760-19a3-498f-bcbd-02d215750df6",
   "metadata": {},
   "outputs": [],
   "source": [
    "img = cv.imread('smarties.png')\n",
    "output = img.copy()\n",
    "gray = cv.cvtColor(img, cv.COLOR_BGR2GRAY)\n",
    "gray = cv.medianBlur(gray, 5)\n",
    "circles = cv.HoughCircles(gray, cv.HOUGH_GRADIENT, 1, 20, param1=50, param2=30, minRadius=0, maxRadius=40)\n",
    "\n",
    "detected_circles = np.uint16(np.around(circles))\n",
    "for(x, y, r) in detected_circles[0,:] :\n",
    "    cv.circle(output, (x,y), r, (0,0,0), 3)\n",
    "    cv.circle(output, (x,y), 2, (0,255,255), 3)\n",
    "    \n",
    "cv.imshow('output', output)\n",
    "cv.waitKey(0)\n",
    "cv.destroyAllWindows()"
   ]
  },
  {
   "cell_type": "code",
   "execution_count": null,
   "id": "be42da4d-72e0-4ab0-a7e1-0ffc2bf06cf2",
   "metadata": {},
   "outputs": [],
   "source": []
  }
 ],
 "metadata": {
  "kernelspec": {
   "display_name": "Python 3 (ipykernel)",
   "language": "python",
   "name": "python3"
  },
  "language_info": {
   "codemirror_mode": {
    "name": "ipython",
    "version": 3
   },
   "file_extension": ".py",
   "mimetype": "text/x-python",
   "name": "python",
   "nbconvert_exporter": "python",
   "pygments_lexer": "ipython3",
   "version": "3.9.7"
  }
 },
 "nbformat": 4,
 "nbformat_minor": 5
}
