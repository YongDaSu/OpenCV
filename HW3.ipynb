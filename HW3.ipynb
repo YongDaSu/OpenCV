{
 "cells": [
  {
   "cell_type": "code",
   "execution_count": 1,
   "id": "17e46488-16ac-4b3d-bd44-7d56130fc79b",
   "metadata": {},
   "outputs": [],
   "source": [
    "import cv2\n",
    "import numpy as np"
   ]
  },
  {
   "cell_type": "code",
   "execution_count": 2,
   "id": "125aa7e8-324c-4744-ad7d-a7eb1ffda7d4",
   "metadata": {},
   "outputs": [],
   "source": [
    "cap = cv2.VideoCapture('slow_traffic_small.mp4')\n",
    "template = cv2.imread(\"green.jpg\", 0)\n",
    "w, h = template.shape[::-1]\n",
    "\n",
    "width = int(cap.get(cv2.CAP_PROP_FRAME_WIDTH))\n",
    "height = int(cap.get(cv2.CAP_PROP_FRAME_HEIGHT))\n",
    "fps = int(cap.get(cv2.CAP_PROP_FPS))\n",
    "codec = cv2.VideoWriter_fourcc(*'XVID')\n",
    "out = cv2.VideoWriter('HW3.avi', codec, 20.0, (width, height))\n",
    "\n",
    "while (cap.isOpened()):\n",
    "    ret, frame = cap.read()\n",
    "    if ret == True:\n",
    "        #print(cap.get(cv2.CAP_PROP_FRAME_WIDTH))\n",
    "        #print(cap.get(cv2.CAP_PROP_FRAME_HEIGHT))        \n",
    "        \n",
    "        gray_img = cv2.cvtColor(frame, cv2.COLOR_BGR2GRAY)\n",
    "        #cv2.imshow('gray video', gray_img)\n",
    "        \n",
    "        res = cv2.matchTemplate(gray_img, template, cv2.TM_CCOEFF_NORMED )\n",
    "        #print(res)\n",
    "        threshold = 0.96\n",
    "        loc = np.where(res >= threshold)\n",
    "        #print(loc) #(array([85], dtype=int64), array([220], dtype=int64))\n",
    "        \n",
    "        for pt in zip(*loc[::-1]):\n",
    "            if (pt[0] <=200):\n",
    "                cv2.rectangle(frame, pt, (pt[0] + w, pt[1] + h), (0, 0, 255), 1)\n",
    "                #cv2.rectangle(frame, pt, (pt[0] + 10, pt[1] + 50 ), (0, 0, 200), 1)\n",
    "            \n",
    "        cv2.imshow('output', frame)\n",
    "        out.write(frame) #save color video\n",
    "        \n",
    "        if cv2.waitKey(20) & 0xFF == ord('q'):\n",
    "            break\n",
    "\n",
    "    else:\n",
    "        break  \n",
    "        \n",
    "cap.release()\n",
    "out.release()\n",
    "cv2.destroyAllWindows()"
   ]
  }
 ],
 "metadata": {
  "kernelspec": {
   "display_name": "Python 3 (ipykernel)",
   "language": "python",
   "name": "python3"
  },
  "language_info": {
   "codemirror_mode": {
    "name": "ipython",
    "version": 3
   },
   "file_extension": ".py",
   "mimetype": "text/x-python",
   "name": "python",
   "nbconvert_exporter": "python",
   "pygments_lexer": "ipython3",
   "version": "3.9.7"
  }
 },
 "nbformat": 4,
 "nbformat_minor": 5
}
