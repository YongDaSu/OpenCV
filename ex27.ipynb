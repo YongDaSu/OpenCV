{
 "cells": [
  {
   "cell_type": "code",
   "execution_count": 1,
   "id": "aab05f88-6602-45df-9206-b631605d1433",
   "metadata": {},
   "outputs": [],
   "source": [
    "import cv2"
   ]
  },
  {
   "cell_type": "code",
   "execution_count": 2,
   "id": "8bed2483-7ee1-4820-873c-6d7c5a36294a",
   "metadata": {},
   "outputs": [],
   "source": [
    "img = cv2.imread(\"lena.jpg\")\n",
    "layer = img.copy()\n",
    "gp = [layer] # Gaussian Pyramid\n",
    "for i in range(6):\n",
    "    layer = cv2.pyrDown(layer)\n",
    "    gp.append(layer) # List\n",
    "    #cv2.imshow(str(i), layer)"
   ]
  },
  {
   "cell_type": "code",
   "execution_count": 3,
   "id": "0f5d140f-3405-4124-94e5-581fd3e57b7e",
   "metadata": {},
   "outputs": [],
   "source": [
    "layer = gp[5]\n",
    "cv2.imshow('upper level Gaussian Pyramid', layer)\n",
    "lp = [layer] # Laplacian Pyramid"
   ]
  },
  {
   "cell_type": "code",
   "execution_count": 4,
   "id": "3a3a53ca-b522-40f1-bbec-d1be9005dfb5",
   "metadata": {},
   "outputs": [],
   "source": [
    "for i in range(5, 0, -1): # 5, 4, 3, 2, 1\n",
    "    gaussian_extended = cv2.pyrUp(gp[i])\n",
    "    laplacian = cv2.subtract(gp[i-1], gaussian_extended)\n",
    "    lp.append(laplacian)\n",
    "    cv2.imshow(str(i), laplacian)"
   ]
  },
  {
   "cell_type": "code",
   "execution_count": 5,
   "id": "1c2427b7-c3b9-4e63-86d3-6c0f46b66737",
   "metadata": {},
   "outputs": [],
   "source": [
    "cv2.imshow(\"Original image\", img)\n",
    "cv2.waitKey(0)\n",
    "cv2.destroyAllWindows()"
   ]
  },
  {
   "cell_type": "code",
   "execution_count": null,
   "id": "cfec789d-5602-4396-a4e8-ce0e0cda5859",
   "metadata": {},
   "outputs": [],
   "source": []
  }
 ],
 "metadata": {
  "kernelspec": {
   "display_name": "Python 3 (ipykernel)",
   "language": "python",
   "name": "python3"
  },
  "language_info": {
   "codemirror_mode": {
    "name": "ipython",
    "version": 3
   },
   "file_extension": ".py",
   "mimetype": "text/x-python",
   "name": "python",
   "nbconvert_exporter": "python",
   "pygments_lexer": "ipython3",
   "version": "3.9.7"
  }
 },
 "nbformat": 4,
 "nbformat_minor": 5
}
