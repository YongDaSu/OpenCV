{
 "cells": [
  {
   "cell_type": "code",
   "execution_count": 1,
   "id": "6bd28462",
   "metadata": {},
   "outputs": [],
   "source": [
    "import cv2"
   ]
  },
  {
   "cell_type": "code",
   "execution_count": 2,
   "id": "ee3706f6-8ca0-4a31-bac6-7ba167ffa14b",
   "metadata": {},
   "outputs": [
    {
     "name": "stdout",
     "output_type": "stream",
     "text": [
      "['EVENT_FLAG_ALTKEY', 'EVENT_FLAG_CTRLKEY', 'EVENT_FLAG_LBUTTON', 'EVENT_FLAG_MBUTTON', 'EVENT_FLAG_RBUTTON', 'EVENT_FLAG_SHIFTKEY', 'EVENT_LBUTTONDBLCLK', 'EVENT_LBUTTONDOWN', 'EVENT_LBUTTONUP', 'EVENT_MBUTTONDBLCLK', 'EVENT_MBUTTONDOWN', 'EVENT_MBUTTONUP', 'EVENT_MOUSEHWHEEL', 'EVENT_MOUSEMOVE', 'EVENT_MOUSEWHEEL', 'EVENT_RBUTTONDBLCLK', 'EVENT_RBUTTONDOWN', 'EVENT_RBUTTONUP']\n",
      "18\n"
     ]
    }
   ],
   "source": [
    "events = [i for i in dir(cv2) if 'EVENT' in i]\n",
    "print(events)\n",
    "print(len(events))"
   ]
  },
  {
   "cell_type": "code",
   "execution_count": 3,
   "id": "063c2cf6",
   "metadata": {},
   "outputs": [
    {
     "name": "stdout",
     "output_type": "stream",
     "text": [
      "64 , 105\n",
      "279 , 241\n"
     ]
    }
   ],
   "source": [
    "def click_event(event, x, y, flags, param):\n",
    "\n",
    "    if event == cv2.EVENT_LBUTTONDOWN:\n",
    "        #滑鼠按下左鍵觸發，print(x,y)座標\n",
    "        print(x, ',', y)\n",
    "        font = cv2.FONT_HERSHEY_SIMPLEX\n",
    "        text = str(x) + ',' +str(y)\n",
    "        cv2.putText(img, text, (x,y), font, 0.5, (255,255,0), 2, cv2.LINE_AA)\n",
    "        cv2.imshow('image',img)\n",
    "    \n",
    "    if event == cv2.EVENT_RBUTTONDOWN:\n",
    "        #滑鼠按下右鍵觸發，顯示圖篇該點灰階值\n",
    "        blue = img[y, x, 0] #512x512x3的0通道就是blue \n",
    "        #         [列, 行, blue]要問\n",
    "        green = img[y, x, 1]\n",
    "        red = img[y, x, 2]\n",
    "        font = cv2.FONT_HERSHEY_SIMPLEX\n",
    "        text = str(blue) + ',' +str(green) + ',' +str(red)\n",
    "        cv2.putText(img, text, (x,y), font, 0.5, (0,255,255), 2, cv2.LINE_AA)\n",
    "        \n",
    "        cv2.imshow('image',img)\n",
    "        \n",
    "img = cv2.imread('lena.jpg')\n",
    "cv2.imshow('image', img)\n",
    "\n",
    "cv2.setMouseCallback('image', click_event)\n",
    "\n",
    "cv2.waitKey(0)\n",
    "cv2.destroyAllWindows()"
   ]
  },
  {
   "cell_type": "code",
   "execution_count": null,
   "id": "cf9fa100",
   "metadata": {},
   "outputs": [],
   "source": []
  }
 ],
 "metadata": {
  "kernelspec": {
   "display_name": "Python 3 (ipykernel)",
   "language": "python",
   "name": "python3"
  },
  "language_info": {
   "codemirror_mode": {
    "name": "ipython",
    "version": 3
   },
   "file_extension": ".py",
   "mimetype": "text/x-python",
   "name": "python",
   "nbconvert_exporter": "python",
   "pygments_lexer": "ipython3",
   "version": "3.9.7"
  }
 },
 "nbformat": 4,
 "nbformat_minor": 5
}
