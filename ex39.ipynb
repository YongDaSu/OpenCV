{
 "cells": [
  {
   "cell_type": "code",
   "execution_count": 1,
   "id": "dd27d700-d527-41e2-bf50-89b7d0791c3c",
   "metadata": {},
   "outputs": [],
   "source": [
    "import cv2\n",
    "import numpy as np\n",
    "import time"
   ]
  },
  {
   "cell_type": "code",
   "execution_count": 2,
   "id": "05a05139-da5c-4c1a-81a3-b8dd7a277b3d",
   "metadata": {},
   "outputs": [],
   "source": [
    "def region_of_interest(img, vertices):\n",
    "    mask = np.zeros_like(img)\n",
    "    #channel_count = img.shape[2]\n",
    "    match_mask_color = 255\n",
    "    cv2.fillPoly (mask, vertices, match_mask_color )\n",
    "    masked_image = cv2.bitwise_and(img, mask)\n",
    "    return masked_image"
   ]
  },
  {
   "cell_type": "code",
   "execution_count": 3,
   "id": "48d27325-6bf1-4715-8827-a2c058729cb0",
   "metadata": {},
   "outputs": [],
   "source": [
    "def draw_the_lines(img, lines):\n",
    "    blank_image = np.zeros((img.shape[0], img.shape[1], 3), dtype=np.uint8)\n",
    "    \n",
    "    for line in lines:\n",
    "        for x1, y1, x2, y2 in line:\n",
    "            cv2.line(blank_image, (x1,y1), (x2,y2), (0,255,0), thickness=4)\n",
    "        \n",
    "    img = cv2.addWeighted(img, 0.8, blank_image, 1, 0.0)\n",
    "    return img"
   ]
  },
  {
   "cell_type": "code",
   "execution_count": 4,
   "id": "94b18550-8af3-45cd-9102-9b1742721e92",
   "metadata": {},
   "outputs": [],
   "source": [
    "def process(image):\n",
    "    height = image.shape[0]\n",
    "    width = image.shape[1]\n",
    "    region_of_interest_vertices = [\n",
    "        (0, height),\n",
    "        (width/2, height*3/4),\n",
    "        (width, height)]\n",
    "    gray_image = cv2.cvtColor(image, cv2.COLOR_RGB2GRAY)\n",
    "    canny_image = cv2.Canny(gray_image, 100, 200)\n",
    "    cropped_image = region_of_interest(canny_image, np.array([region_of_interest_vertices], np.int32))\n",
    "    \n",
    "    lines = cv2.HoughLinesP(cropped_image,\n",
    "                      rho = 2,\n",
    "                      theta = np.pi/180,\n",
    "                      threshold=50,\n",
    "                      lines = np.array([]),\n",
    "                      minLineLength=40,\n",
    "                      maxLineGap=100)\n",
    "    image_with_lines = draw_the_lines(image, lines)\n",
    "    return image_with_lines"
   ]
  },
  {
   "cell_type": "code",
   "execution_count": 5,
   "id": "30f02b79-f7b3-42d3-8b69-b82923322b51",
   "metadata": {},
   "outputs": [],
   "source": [
    "cap = cv2.VideoCapture('test.mp4')\n",
    "\n",
    "while cap.isOpened():\n",
    "    ret, frame = cap.read()\n",
    "    if ret == False:\n",
    "        break\n",
    "    frame = process(frame)\n",
    "    cv2.imshow('frame', frame)\n",
    "    #time.sleep(0.034)  #每秒播29點多張，似waitkey\n",
    "    if cv2.waitKey(1) & 0xFF == ord('q'):\n",
    "        break\n",
    "        \n",
    "cap.release()\n",
    "cv2.destroyAllWindows()"
   ]
  }
 ],
 "metadata": {
  "kernelspec": {
   "display_name": "Python 3 (ipykernel)",
   "language": "python",
   "name": "python3"
  },
  "language_info": {
   "codemirror_mode": {
    "name": "ipython",
    "version": 3
   },
   "file_extension": ".py",
   "mimetype": "text/x-python",
   "name": "python",
   "nbconvert_exporter": "python",
   "pygments_lexer": "ipython3",
   "version": "3.9.7"
  }
 },
 "nbformat": 4,
 "nbformat_minor": 5
}
