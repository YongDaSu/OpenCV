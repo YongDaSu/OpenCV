{
 "cells": [
  {
   "cell_type": "code",
   "execution_count": 1,
   "id": "42344ddd-aeeb-4e01-a382-62f601cf9e42",
   "metadata": {},
   "outputs": [],
   "source": [
    "import numpy as np\n",
    "import cv2 as cv"
   ]
  },
  {
   "cell_type": "code",
   "execution_count": 2,
   "id": "cf29603f-f0ac-4a27-8aec-48982ccd6de1",
   "metadata": {},
   "outputs": [
    {
     "name": "stdout",
     "output_type": "stream",
     "text": [
      "[[[ 60 255 255]]]\n"
     ]
    }
   ],
   "source": [
    "green = np.uint8([[[0,255,0]]])\n",
    "hsv_green = cv.cvtColor(green, cv.COLOR_BGR2HSV)\n",
    "print( hsv_green )\n",
    "\n",
    "lower_green = np.array([50,100,100])\n",
    "upper_green = np.array([70,255,255])"
   ]
  },
  {
   "cell_type": "code",
   "execution_count": 3,
   "id": "aabba2d7-90ff-4424-80d9-18fcabf7a36e",
   "metadata": {},
   "outputs": [],
   "source": [
    "cap = cv.VideoCapture('slow_traffic_small.mp4')\n",
    "\n",
    "while(1):\n",
    "    #take each frame\n",
    "    ret, frame = cap.read()\n",
    "    if ret == True:\n",
    "        hsv = cv.cvtColor(frame, cv.COLOR_BGR2HSV)\n",
    "        \n",
    "        mask = cv.inRange(hsv, lower_green, upper_green)\n",
    "        \n",
    "        #bitwise and mask and original image\n",
    "        res = cv.bitwise_and(frame, frame, mask=mask)\n",
    "        cv.imshow('frame', frame)\n",
    "        cv.imshow('mask', mask)\n",
    "        cv.imshow('res', res)\n",
    "        k = cv.waitKey(30) & 0xFF\n",
    "        \n",
    "        if k == 27:\n",
    "            break\n",
    "    else:\n",
    "        #print(\"fail\")\n",
    "        break\n",
    "            \n",
    "cap.release()\n",
    "cv.destroyAllWindows()"
   ]
  }
 ],
 "metadata": {
  "kernelspec": {
   "display_name": "Python 3 (ipykernel)",
   "language": "python",
   "name": "python3"
  },
  "language_info": {
   "codemirror_mode": {
    "name": "ipython",
    "version": 3
   },
   "file_extension": ".py",
   "mimetype": "text/x-python",
   "name": "python",
   "nbconvert_exporter": "python",
   "pygments_lexer": "ipython3",
   "version": "3.9.7"
  }
 },
 "nbformat": 4,
 "nbformat_minor": 5
}
