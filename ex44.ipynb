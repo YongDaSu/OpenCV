{
 "cells": [
  {
   "cell_type": "code",
   "execution_count": 1,
   "id": "2d798bc2-f567-4220-88f2-83c4940c0e18",
   "metadata": {},
   "outputs": [],
   "source": [
    "import cv2 as cv"
   ]
  },
  {
   "cell_type": "code",
   "execution_count": 2,
   "id": "eb27c793-246a-4642-aaab-b9dc86e9da12",
   "metadata": {},
   "outputs": [],
   "source": [
    "cap = cv.VideoCapture('vtest.avi')"
   ]
  },
  {
   "cell_type": "code",
   "execution_count": 11,
   "id": "00312857-c968-40cf-8826-2fedbb4d94a4",
   "metadata": {},
   "outputs": [
    {
     "name": "stdout",
     "output_type": "stream",
     "text": [
      "500\n"
     ]
    }
   ],
   "source": [
    "fgbg = cv.createBackgroundSubtractorMOG2(detectShadows = False)\n",
    "\n",
    "while True:\n",
    "    ret, frame = cap.read()\n",
    "    if frame is None:\n",
    "        break\n",
    "        \n",
    "    fgmask = fgbg.apply(frame)\n",
    "    cv.imshow('Frame', frame)\n",
    "    cv.imshow('FG mask', fgmask)\n",
    "    \n",
    "    keyboard = cv.waitKey(30)\n",
    "    if keyboard == 113 or keyboard == 27 :\n",
    "        print(fgbg.getHistory())\n",
    "        break\n",
    "cap.release()\n",
    "cv.destroyAllWindows()"
   ]
  },
  {
   "cell_type": "code",
   "execution_count": null,
   "id": "2a1a3c00-e1d5-41bb-8342-3cc6853b1a32",
   "metadata": {},
   "outputs": [],
   "source": []
  }
 ],
 "metadata": {
  "kernelspec": {
   "display_name": "Python 3 (ipykernel)",
   "language": "python",
   "name": "python3"
  },
  "language_info": {
   "codemirror_mode": {
    "name": "ipython",
    "version": 3
   },
   "file_extension": ".py",
   "mimetype": "text/x-python",
   "name": "python",
   "nbconvert_exporter": "python",
   "pygments_lexer": "ipython3",
   "version": "3.9.7"
  }
 },
 "nbformat": 4,
 "nbformat_minor": 5
}
