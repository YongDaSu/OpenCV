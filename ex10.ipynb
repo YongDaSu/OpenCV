{
 "cells": [
  {
   "cell_type": "code",
   "execution_count": 1,
   "id": "4137a32f",
   "metadata": {},
   "outputs": [],
   "source": [
    "import cv2"
   ]
  },
  {
   "cell_type": "code",
   "execution_count": 2,
   "id": "a5bdd5ce",
   "metadata": {},
   "outputs": [
    {
     "name": "stdout",
     "output_type": "stream",
     "text": [
      "(342, 548, 3)\n",
      "562248\n",
      "uint8\n"
     ]
    }
   ],
   "source": [
    "img = cv2.imread('messi5.jpg') # 長548x高342\n",
    "print(img.shape) # (row, column, channel)\n",
    "print(img.size) # total no. of pixels\n",
    "print(img.dtype) # image dadatype"
   ]
  },
  {
   "cell_type": "code",
   "execution_count": 6,
   "id": "f511911a",
   "metadata": {},
   "outputs": [
    {
     "name": "stdout",
     "output_type": "stream",
     "text": [
      "[[39 42 44 ... 57 55 52]\n",
      " [37 42 46 ... 62 60 57]\n",
      " [41 46 51 ... 64 63 60]\n",
      " ...\n",
      " [56 48 49 ... 60 63 73]\n",
      " [54 59 50 ... 56 69 64]\n",
      " [45 58 71 ... 49 52 51]]\n"
     ]
    }
   ],
   "source": [
    "b,g,r = cv2.split(img)\n",
    "#print(b)\n",
    "#print(g)\n",
    "#print(r)\n",
    "img = cv2.merge((b,g,r)) # try (r,g,b)"
   ]
  },
  {
   "cell_type": "code",
   "execution_count": 4,
   "id": "fe6a39fd",
   "metadata": {},
   "outputs": [],
   "source": [
    "cv2.imshow('image',img)\n",
    "cv2.waitKey(0)\n",
    "cv2.destroyAllWindows()"
   ]
  },
  {
   "cell_type": "code",
   "execution_count": null,
   "id": "77e9ed6e",
   "metadata": {},
   "outputs": [],
   "source": []
  }
 ],
 "metadata": {
  "kernelspec": {
   "display_name": "Python 3 (ipykernel)",
   "language": "python",
   "name": "python3"
  },
  "language_info": {
   "codemirror_mode": {
    "name": "ipython",
    "version": 3
   },
   "file_extension": ".py",
   "mimetype": "text/x-python",
   "name": "python",
   "nbconvert_exporter": "python",
   "pygments_lexer": "ipython3",
   "version": "3.9.7"
  }
 },
 "nbformat": 4,
 "nbformat_minor": 5
}
