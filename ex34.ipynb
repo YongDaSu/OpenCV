{
 "cells": [
  {
   "cell_type": "code",
   "execution_count": 1,
   "id": "ba35376f-8d15-484f-85e8-f5559227e240",
   "metadata": {},
   "outputs": [],
   "source": [
    "import cv2\n",
    "import numpy as np"
   ]
  },
  {
   "cell_type": "code",
   "execution_count": 2,
   "id": "d5751752-5f74-4f8a-8624-ab8941f35afe",
   "metadata": {},
   "outputs": [
    {
     "name": "stdout",
     "output_type": "stream",
     "text": [
      "[[0.5998727  0.6059889  0.6140785  ... 0.7978744  0.799312   0.8009672 ]\n",
      " [0.6084354  0.6142141  0.621797   ... 0.7951076  0.79581237 0.79683924]\n",
      " [0.6176634  0.6229683  0.63024855 ... 0.79237163 0.792251   0.7924582 ]\n",
      " ...\n",
      " [0.85123634 0.8511445  0.85103613 ... 0.8385212  0.8381776  0.8385832 ]\n",
      " [0.85194564 0.8523055  0.85240114 ... 0.8343016  0.8343029  0.8341834 ]\n",
      " [0.8532243  0.8528339  0.85292757 ... 0.83101434 0.8316856  0.8320831 ]]\n",
      "(array([85], dtype=int64), array([220], dtype=int64))\n"
     ]
    }
   ],
   "source": [
    "img = cv2.imread(\"messi5.jpg\") # shape (342, 548, 3)\n",
    "grey_img = cv2.cvtColor(img, cv2.COLOR_BGR2GRAY) # shape (342, 548)\n",
    "template = cv2.imread(\"messi_face.jpg\", 0) # shape (52, 40)\n",
    "w, h = template.shape[::-1] # w=40, h=52\n",
    "#h, w = template.shape[::]\n",
    "#(h,w)=template.shape\n",
    "res = cv2.matchTemplate(grey_img, template, cv2.TM_CCORR_NORMED )\n",
    "print(res) # shape (291, 509)\n",
    "threshold = 0.99\n",
    "loc = np.where(res >= threshold)\n",
    "print(loc) #(array([85], dtype=int64), array([220], dtype=int64))\n",
    "for pt in zip(*loc[::-1]):\n",
    "    cv2.rectangle(img, pt, (pt[0] + w, pt[1] + h), (0, 0, 255), 2)"
   ]
  },
  {
   "cell_type": "code",
   "execution_count": 3,
   "id": "1b4932cf-4f1b-4a5b-94dc-20c4ce8b48f3",
   "metadata": {},
   "outputs": [],
   "source": [
    "cv2.imshow(\"img\", img)\n",
    "cv2.waitKey(0)\n",
    "cv2.destroyAllWindows()"
   ]
  }
 ],
 "metadata": {
  "kernelspec": {
   "display_name": "Python 3 (ipykernel)",
   "language": "python",
   "name": "python3"
  },
  "language_info": {
   "codemirror_mode": {
    "name": "ipython",
    "version": 3
   },
   "file_extension": ".py",
   "mimetype": "text/x-python",
   "name": "python",
   "nbconvert_exporter": "python",
   "pygments_lexer": "ipython3",
   "version": "3.9.7"
  }
 },
 "nbformat": 4,
 "nbformat_minor": 5
}
