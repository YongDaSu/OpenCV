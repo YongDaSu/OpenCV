{
 "cells": [
  {
   "cell_type": "markdown",
   "id": "ee7f994a-0f61-4cf5-bb4b-3ce30e0e92dc",
   "metadata": {},
   "source": [
    "# Adaptive Thresholding 適應閾值"
   ]
  },
  {
   "cell_type": "markdown",
   "id": "6f35c19e-6121-41a3-bc5f-646d5d84df49",
   "metadata": {},
   "source": [
    "### adaptive methods    \n",
    "1.cv.ADAPTIVE_THRESH_MEAN_C    \n",
    "threshold value is the mean of neighbourhood area.    \n",
    "2.cv.ADAPTIVE_THRESH_GAUSSIAN_C    \n",
    "threshold value is the weighted sum of neighbourhood values\n",
    "where weights are a gaussian window."
   ]
  },
  {
   "cell_type": "code",
   "execution_count": 2,
   "id": "721bb792",
   "metadata": {},
   "outputs": [],
   "source": [
    "import cv2 as cv"
   ]
  },
  {
   "cell_type": "code",
   "execution_count": 4,
   "id": "fa150e55",
   "metadata": {},
   "outputs": [],
   "source": [
    "img = cv.imread('sudoku.png',0) #grayscale\n",
    "_, th1 = cv.threshold(img, 127, 255, cv.THRESH_BINARY)\n",
    "th2 = cv.adaptiveThreshold(img, 255, cv.ADAPTIVE_THRESH_MEAN_C, cv.THRESH_BINARY, 11,2)\n",
    "#                                                                                 11x11區域大小, 2為微調整閾值上下限\n",
    "th3 = cv.adaptiveThreshold(img, 255, cv.ADAPTIVE_THRESH_GAUSSIAN_C, cv.THRESH_BINARY, 11,2)"
   ]
  },
  {
   "cell_type": "code",
   "execution_count": 6,
   "id": "2b515473",
   "metadata": {},
   "outputs": [],
   "source": [
    "cv.imshow(\"Image\", img)\n",
    "cv.imshow(\"THRESH_BINARY\", th1)\n",
    "cv.imshow(\"ADAPTIVE_THRESH_MEAN_C\", th2)\n",
    "cv.imshow(\"ADAPTIVE_THRESH_GAUSSIAN_C\", th3)\n",
    "\n",
    "cv.waitKey(0)\n",
    "cv.destroyAllWindows()"
   ]
  },
  {
   "cell_type": "code",
   "execution_count": null,
   "id": "c91a66e1",
   "metadata": {},
   "outputs": [],
   "source": []
  }
 ],
 "metadata": {
  "kernelspec": {
   "display_name": "Python 3 (ipykernel)",
   "language": "python",
   "name": "python3"
  },
  "language_info": {
   "codemirror_mode": {
    "name": "ipython",
    "version": 3
   },
   "file_extension": ".py",
   "mimetype": "text/x-python",
   "name": "python",
   "nbconvert_exporter": "python",
   "pygments_lexer": "ipython3",
   "version": "3.9.7"
  }
 },
 "nbformat": 4,
 "nbformat_minor": 5
}
