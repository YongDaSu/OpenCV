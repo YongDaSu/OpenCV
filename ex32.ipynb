{
 "cells": [
  {
   "cell_type": "code",
   "execution_count": 1,
   "id": "98e81012-bdc2-416e-ae85-a33245d821a8",
   "metadata": {},
   "outputs": [],
   "source": [
    "import cv2 as cv\n",
    "from matplotlib import pyplot as plt"
   ]
  },
  {
   "cell_type": "code",
   "execution_count": 3,
   "id": "b7f10573-45ac-49ef-91c8-a78e58d49bd4",
   "metadata": {},
   "outputs": [],
   "source": [
    "img = cv.imread(\"lena.jpg\")\n",
    "b, g, r = cv.split(img)\n",
    "cv.imshow(\"img\", img)\n",
    "cv.imshow(\"b\", b)\n",
    "cv.imshow(\"g\", g)\n",
    "cv.imshow(\"r\", r)"
   ]
  },
  {
   "cell_type": "code",
   "execution_count": 4,
   "id": "40fbcea5-0c58-40f9-80e1-f50f9436afcf",
   "metadata": {},
   "outputs": [
    {
     "data": {
      "text/plain": [
       "(array([0.000e+00, 0.000e+00, 0.000e+00, 0.000e+00, 0.000e+00, 0.000e+00,\n",
       "        0.000e+00, 0.000e+00, 0.000e+00, 0.000e+00, 0.000e+00, 0.000e+00,\n",
       "        0.000e+00, 0.000e+00, 0.000e+00, 0.000e+00, 0.000e+00, 0.000e+00,\n",
       "        0.000e+00, 0.000e+00, 0.000e+00, 0.000e+00, 0.000e+00, 0.000e+00,\n",
       "        0.000e+00, 0.000e+00, 0.000e+00, 0.000e+00, 0.000e+00, 0.000e+00,\n",
       "        0.000e+00, 0.000e+00, 0.000e+00, 0.000e+00, 0.000e+00, 0.000e+00,\n",
       "        0.000e+00, 0.000e+00, 0.000e+00, 0.000e+00, 0.000e+00, 0.000e+00,\n",
       "        0.000e+00, 0.000e+00, 0.000e+00, 0.000e+00, 0.000e+00, 0.000e+00,\n",
       "        0.000e+00, 1.000e+00, 0.000e+00, 0.000e+00, 0.000e+00, 0.000e+00,\n",
       "        2.000e+00, 0.000e+00, 3.000e+00, 3.000e+00, 1.000e+01, 0.000e+00,\n",
       "        8.000e+00, 1.200e+01, 1.400e+01, 2.000e+01, 2.600e+01, 3.700e+01,\n",
       "        5.600e+01, 6.900e+01, 7.500e+01, 9.800e+01, 1.370e+02, 1.940e+02,\n",
       "        2.090e+02, 2.290e+02, 2.930e+02, 3.410e+02, 4.240e+02, 5.030e+02,\n",
       "        5.460e+02, 5.880e+02, 6.640e+02, 7.720e+02, 8.830e+02, 9.230e+02,\n",
       "        1.078e+03, 1.068e+03, 1.269e+03, 1.314e+03, 1.421e+03, 1.483e+03,\n",
       "        1.536e+03, 1.555e+03, 1.611e+03, 1.595e+03, 1.659e+03, 1.587e+03,\n",
       "        1.601e+03, 1.535e+03, 1.577e+03, 1.567e+03, 1.399e+03, 1.411e+03,\n",
       "        1.291e+03, 1.259e+03, 1.135e+03, 1.096e+03, 1.013e+03, 9.770e+02,\n",
       "        8.650e+02, 8.150e+02, 7.860e+02, 7.720e+02, 7.410e+02, 7.100e+02,\n",
       "        6.760e+02, 6.440e+02, 6.420e+02, 6.580e+02, 6.070e+02, 5.590e+02,\n",
       "        5.910e+02, 5.880e+02, 5.620e+02, 5.560e+02, 5.520e+02, 5.440e+02,\n",
       "        5.710e+02, 6.070e+02, 5.970e+02, 6.630e+02, 6.380e+02, 6.220e+02,\n",
       "        5.960e+02, 6.650e+02, 6.630e+02, 6.630e+02, 6.750e+02, 6.840e+02,\n",
       "        6.660e+02, 6.920e+02, 7.420e+02, 7.670e+02, 7.430e+02, 7.570e+02,\n",
       "        7.610e+02, 7.430e+02, 7.540e+02, 7.780e+02, 7.070e+02, 7.740e+02,\n",
       "        8.250e+02, 8.210e+02, 8.580e+02, 8.040e+02, 7.730e+02, 8.670e+02,\n",
       "        8.740e+02, 9.140e+02, 9.080e+02, 8.830e+02, 9.280e+02, 9.710e+02,\n",
       "        9.410e+02, 9.690e+02, 9.880e+02, 9.980e+02, 1.069e+03, 1.108e+03,\n",
       "        1.126e+03, 1.200e+03, 1.348e+03, 1.463e+03, 1.568e+03, 1.602e+03,\n",
       "        1.738e+03, 1.859e+03, 1.885e+03, 1.770e+03, 1.632e+03, 1.660e+03,\n",
       "        1.578e+03, 1.533e+03, 1.476e+03, 1.486e+03, 1.451e+03, 1.519e+03,\n",
       "        1.515e+03, 1.632e+03, 1.633e+03, 1.687e+03, 1.685e+03, 1.788e+03,\n",
       "        1.964e+03, 1.892e+03, 1.881e+03, 1.940e+03, 1.943e+03, 2.006e+03,\n",
       "        1.950e+03, 2.038e+03, 2.236e+03, 2.391e+03, 2.684e+03, 2.846e+03,\n",
       "        3.032e+03, 3.194e+03, 3.330e+03, 3.308e+03, 3.290e+03, 3.266e+03,\n",
       "        3.148e+03, 2.874e+03, 2.784e+03, 2.719e+03, 2.654e+03, 2.612e+03,\n",
       "        2.688e+03, 2.973e+03, 3.182e+03, 3.444e+03, 3.645e+03, 3.961e+03,\n",
       "        3.801e+03, 3.823e+03, 3.596e+03, 3.318e+03, 3.208e+03, 2.861e+03,\n",
       "        2.603e+03, 2.483e+03, 2.223e+03, 2.265e+03, 2.171e+03, 2.299e+03,\n",
       "        2.274e+03, 2.395e+03, 2.402e+03, 2.357e+03, 2.062e+03, 1.833e+03,\n",
       "        1.642e+03, 1.301e+03, 1.081e+03, 8.620e+02, 7.770e+02, 6.260e+02,\n",
       "        5.820e+02, 4.790e+02, 4.330e+02, 3.260e+02, 3.040e+02, 2.110e+02,\n",
       "        1.940e+02, 1.090e+02, 8.700e+01, 3.750e+02]),\n",
       " array([  0.,   1.,   2.,   3.,   4.,   5.,   6.,   7.,   8.,   9.,  10.,\n",
       "         11.,  12.,  13.,  14.,  15.,  16.,  17.,  18.,  19.,  20.,  21.,\n",
       "         22.,  23.,  24.,  25.,  26.,  27.,  28.,  29.,  30.,  31.,  32.,\n",
       "         33.,  34.,  35.,  36.,  37.,  38.,  39.,  40.,  41.,  42.,  43.,\n",
       "         44.,  45.,  46.,  47.,  48.,  49.,  50.,  51.,  52.,  53.,  54.,\n",
       "         55.,  56.,  57.,  58.,  59.,  60.,  61.,  62.,  63.,  64.,  65.,\n",
       "         66.,  67.,  68.,  69.,  70.,  71.,  72.,  73.,  74.,  75.,  76.,\n",
       "         77.,  78.,  79.,  80.,  81.,  82.,  83.,  84.,  85.,  86.,  87.,\n",
       "         88.,  89.,  90.,  91.,  92.,  93.,  94.,  95.,  96.,  97.,  98.,\n",
       "         99., 100., 101., 102., 103., 104., 105., 106., 107., 108., 109.,\n",
       "        110., 111., 112., 113., 114., 115., 116., 117., 118., 119., 120.,\n",
       "        121., 122., 123., 124., 125., 126., 127., 128., 129., 130., 131.,\n",
       "        132., 133., 134., 135., 136., 137., 138., 139., 140., 141., 142.,\n",
       "        143., 144., 145., 146., 147., 148., 149., 150., 151., 152., 153.,\n",
       "        154., 155., 156., 157., 158., 159., 160., 161., 162., 163., 164.,\n",
       "        165., 166., 167., 168., 169., 170., 171., 172., 173., 174., 175.,\n",
       "        176., 177., 178., 179., 180., 181., 182., 183., 184., 185., 186.,\n",
       "        187., 188., 189., 190., 191., 192., 193., 194., 195., 196., 197.,\n",
       "        198., 199., 200., 201., 202., 203., 204., 205., 206., 207., 208.,\n",
       "        209., 210., 211., 212., 213., 214., 215., 216., 217., 218., 219.,\n",
       "        220., 221., 222., 223., 224., 225., 226., 227., 228., 229., 230.,\n",
       "        231., 232., 233., 234., 235., 236., 237., 238., 239., 240., 241.,\n",
       "        242., 243., 244., 245., 246., 247., 248., 249., 250., 251., 252.,\n",
       "        253., 254., 255., 256.]),\n",
       " <BarContainer object of 256 artists>)"
      ]
     },
     "execution_count": 4,
     "metadata": {},
     "output_type": "execute_result"
    },
    {
     "data": {
      "image/png": "[encoded data removed]",
      "text/plain": [
       "<Figure size 432x288 with 1 Axes>"
      ]
     },
     "metadata": {
      "needs_background": "light"
     },
     "output_type": "display_data"
    }
   ],
   "source": [
    "plt.hist(b.ravel(), 256, [0,256], color = 'b')\n",
    "plt.hist(g.ravel(), 256, [0,256], color = 'g')\n",
    "plt.hist(r.ravel(), 256, [0,256], color = 'r')"
   ]
  },
  {
   "cell_type": "code",
   "execution_count": 5,
   "id": "a439ef15-62e6-4a79-9982-fa38e8106c97",
   "metadata": {},
   "outputs": [],
   "source": [
    "plt.show()\n",
    "cv.waitKey(0)\n",
    "cv.destroyAllWindows()"
   ]
  }
 ],
 "metadata": {
  "kernelspec": {
   "display_name": "Python 3 (ipykernel)",
   "language": "python",
   "name": "python3"
  },
  "language_info": {
   "codemirror_mode": {
    "name": "ipython",
    "version": 3
   },
   "file_extension": ".py",
   "mimetype": "text/x-python",
   "name": "python",
   "nbconvert_exporter": "python",
   "pygments_lexer": "ipython3",
   "version": "3.9.7"
  }
 },
 "nbformat": 4,
 "nbformat_minor": 5
}
